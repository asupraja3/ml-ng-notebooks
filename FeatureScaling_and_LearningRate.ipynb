{
  "cells": [
    {
      "cell_type": "markdown",
      "metadata": {
        "id": "view-in-github",
        "colab_type": "text"
      },
      "source": [
        "<a href=\"https://colab.research.google.com/github/asupraja3/ml-ng-notebooks/blob/main/FeatureScaling_and_LearningRate.ipynb\" target=\"_parent\"><img src=\"https://colab.research.google.com/assets/colab-badge.svg\" alt=\"Open In Colab\"/></a>"
      ]
    },
    {
      "cell_type": "markdown",
      "id": "367ff930",
      "metadata": {
        "id": "367ff930"
      },
      "source": [
        "\n",
        "# Optional Lab: Feature Scaling and Learning Rate (Multi‑variable)\n",
        "\n",
        "This self‑contained notebook shows:\n",
        "- How to **scale features** (min‑max, mean normalization, **z‑score**)\n",
        "- How scaling affects **gradient descent convergence**\n",
        "- How to choose/tune the **learning rate (α)** with visual diagnostics\n",
        "\n",
        "Libraries: `numpy`, `matplotlib` (no external datasets required).\n"
      ]
    },
    {
      "cell_type": "code",
      "execution_count": 1,
      "id": "25578c76",
      "metadata": {
        "id": "25578c76"
      },
      "outputs": [],
      "source": [
        "\n",
        "import numpy as np\n",
        "import matplotlib.pyplot as plt\n",
        "\n",
        "np.set_printoptions(precision=3, suppress=True)\n"
      ]
    },
    {
      "cell_type": "markdown",
      "id": "89b63a38",
      "metadata": {
        "id": "89b63a38"
      },
      "source": [
        "## 1) Create a synthetic multi‑feature dataset (house pricing style)"
      ]
    },
    {
      "cell_type": "code",
      "execution_count": 3,
      "id": "94205f90",
      "metadata": {
        "colab": {
          "base_uri": "https://localhost:8080/"
        },
        "id": "94205f90",
        "outputId": "40d67bba-1af7-40f7-d54b-b9d4a933c990"
      },
      "outputs": [
        {
          "output_type": "execute_result",
          "data": {
            "text/plain": [
              "(array([[2447.189,    3.   ,   28.465,    3.   ],\n",
              "        [1382.381,    5.   ,   33.764,    1.   ],\n",
              "        [ 718.823,    4.   ,   27.112,    1.   ]]),\n",
              " array([605259.805, 340922.811, 197257.442]))"
            ]
          },
          "metadata": {},
          "execution_count": 3
        }
      ],
      "source": [
        "# ---------------------------------------------------------------\n",
        "# Simulating a house price dataset with multiple features\n",
        "# ---------------------------------------------------------------\n",
        "\n",
        "# Features: [size(sqft), bedrooms, age(years), floors]\n",
        "# Each row in X_train will represent one house with 4 features\n",
        "\n",
        "rng = np.random.default_rng(0)\n",
        "# Create a reproducible random number generator using a fixed seed (0)\n",
        "# Using default_rng (NumPy's recommended random generator) ensures consistent results on every run\n",
        "\n",
        "m = 300\n",
        "# Number of samples (rows) in the dataset — here, 300 houses\n",
        "\n",
        "# ------------------- Feature Generation -----------------------\n",
        "\n",
        "size = rng.uniform(600, 3500, m)\n",
        "# Randomly generate house sizes in square feet\n",
        "# Values are uniformly distributed between 600 and 3500\n",
        "# This is a large numeric range — suitable for showing the effect of feature scaling later\n",
        "\n",
        "beds = rng.integers(1, 6, m)\n",
        "# Randomly assign number of bedrooms (integers from 1 to 5)\n",
        "# Small integer range — less variation compared to size\n",
        "\n",
        "age = rng.uniform(0, 40, m)\n",
        "# Randomly generate the age of the house in years\n",
        "# Values between 0 (brand new) and 40 years old\n",
        "# Medium numeric range\n",
        "\n",
        "floors = rng.integers(1, 4, m)\n",
        "# Randomly assign number of floors (1 to 3)\n",
        "# Small integer range — categorical-like numeric feature\n",
        "\n",
        "# ------------------- Combine into Feature Matrix -----------------------\n",
        "\n",
        "X_train = np.c_[size, beds, age, floors].astype(float)\n",
        "# Combine the four feature arrays column-wise into one matrix\n",
        "# np.c_ stacks arrays as columns → shape becomes (m, 4)\n",
        "# Casting to float ensures compatibility with mathematical operations in ML algorithms\n",
        "\n",
        "# ------------------- Define Ground Truth Model -----------------------\n",
        "\n",
        "true_w = np.array([220.0, 30.0, -2.0, 15.0])\n",
        "# \"True\" model weights for each feature (unknown to the learner)\n",
        "# Interpretation:\n",
        "#   size(sqft) → +$220 per additional sqft\n",
        "#   bedrooms   → +$30 per bedroom (small effect, possibly unrealistic in real life)\n",
        "#   age        → -$2 per year of age (older homes slightly cheaper)\n",
        "#   floors     → +$15 per additional floor\n",
        "\n",
        "true_b = 50_000.0\n",
        "# \"True\" bias/intercept term → base price when all features are zero\n",
        "\n",
        "# ------------------- Add Realistic Noise -----------------------\n",
        "\n",
        "noise = rng.normal(0, 25_000, m)\n",
        "# Gaussian noise with mean 0 and std deviation 25,000\n",
        "# Simulates unpredictable real-world factors affecting house prices (location, renovations, etc.)\n",
        "\n",
        "# ------------------- Generate Target Values -----------------------\n",
        "\n",
        "y_train = X_train @ true_w + true_b + noise\n",
        "# Compute target prices:\n",
        "#   X_train @ true_w   → matrix multiplication (dot product) between features and weights\n",
        "#   + true_b           → adds the base price\n",
        "#   + noise            → injects randomness to simulate imperfect predictions\n",
        "\n",
        "# ------------------- Metadata & Preview -----------------------\n",
        "\n",
        "X_features = [\"size(sqft)\", \"bedrooms\", \"age\", \"floors\"]\n",
        "# Store feature names for readability and later plotting/interpretation\n",
        "\n",
        "X_train[:3], y_train[:3]\n",
        "# Preview the first 3 rows of features and corresponding prices\n",
        "# Helps check data correctness before training\n",
        "\n"
      ]
    },
    {
      "cell_type": "markdown",
      "id": "262c8c5b",
      "metadata": {
        "id": "262c8c5b"
      },
      "source": [
        "## 2) Visualize feature distributions (before/after scaling)"
      ]
    },
    {
      "cell_type": "code",
      "execution_count": 5,
      "id": "32e1b6e5",
      "metadata": {
        "id": "32e1b6e5"
      },
      "outputs": [],
      "source": [
        "def norm_plot(ax, x, bins=30):\n",
        "    \"\"\"\n",
        "    Plot a histogram of the data `x` and overlay a normal distribution PDF\n",
        "    (Probability Density Function) with the same mean and standard deviation.\n",
        "\n",
        "    Parameters\n",
        "    ----------\n",
        "    ax : matplotlib.axes.Axes\n",
        "        The Axes object to plot on.\n",
        "    x : array-like\n",
        "        Input data for which the histogram and normal curve will be drawn.\n",
        "    bins : int, optional (default=30)\n",
        "        Number of bins to use for the histogram.\n",
        "\n",
        "    Returns\n",
        "    -------\n",
        "    mu : float\n",
        "        Mean of the input data.\n",
        "    sigma : float\n",
        "        Standard deviation of the input data.\n",
        "    \"\"\"\n",
        "\n",
        "    # ------------------- Compute Statistics -------------------\n",
        "    mu, sigma = np.mean(x), np.std(x)\n",
        "    # mu    → average value of the dataset\n",
        "    # sigma → standard deviation (spread of the data)\n",
        "\n",
        "    # ------------------- Plot Histogram -------------------\n",
        "    ax.hist(x, bins=bins, alpha=0.6, density=True)\n",
        "    # ax.hist(...) draws the histogram on the given Axes `ax`\n",
        "    # alpha=0.6 → semi-transparent bars\n",
        "    # density=True → normalize histogram so area under histogram = 1\n",
        "    # (important so it can be compared with the PDF)\n",
        "\n",
        "    # ------------------- Prepare Normal Distribution Curve -------------------\n",
        "    xs = np.linspace(mu - 4*sigma, mu + 4*sigma, 200)\n",
        "    # xs → 200 evenly spaced points covering ±4 standard deviations from the mean\n",
        "    # This range covers ~99.99% of the normal distribution\n",
        "\n",
        "    if sigma > 1e-12:\n",
        "        # Avoid division by zero or extremely tiny sigma values\n",
        "\n",
        "        # PDF formula for a normal distribution:\n",
        "        # f(x) = (1 / (σ√(2π))) * exp(-0.5 * ((x - μ) / σ)^2)\n",
        "        pdf = (1.0 / (sigma * np.sqrt(2 * np.pi))) * \\\n",
        "              np.exp(-0.5 * ((xs - mu) / sigma) ** 2)\n",
        "\n",
        "        ax.plot(xs, pdf, linewidth=2)\n",
        "        # Overlay the smooth normal curve on the histogram\n",
        "        # linewidth=2 → makes the curve stand out\n",
        "\n",
        "    # ------------------- Beautify the Plot -------------------\n",
        "    ax.grid(True, alpha=0.3)\n",
        "    # Adds a light grid for better readability\n",
        "\n",
        "    return mu, sigma\n",
        "    # Return the mean and standard deviation for reference"
      ]
    },
    {
      "cell_type": "markdown",
      "id": "8f1641a3",
      "metadata": {
        "id": "8f1641a3"
      },
      "source": [
        "## 3) Scaling utilities (min‑max, mean normalization, z‑score)"
      ]
    },
    {
      "cell_type": "code",
      "execution_count": 6,
      "id": "6ed6aa81",
      "metadata": {
        "id": "6ed6aa81"
      },
      "outputs": [],
      "source": [
        "def minmax_scale(X):\n",
        "    \"\"\"\n",
        "    Perform Min-Max Scaling on features.\n",
        "    Formula: X' = (X - X_min) / (X_max - X_min)\n",
        "\n",
        "    Parameters\n",
        "    ----------\n",
        "    X : ndarray, shape (m, n)\n",
        "        Feature matrix where m = number of samples, n = number of features.\n",
        "\n",
        "    Returns\n",
        "    -------\n",
        "    X_s : ndarray\n",
        "        Scaled features in range [0, 1] for each column.\n",
        "    X_min : ndarray\n",
        "        Minimum values of each feature (before scaling).\n",
        "    X_max : ndarray\n",
        "        Maximum values of each feature (before scaling).\n",
        "    \"\"\"\n",
        "\n",
        "    X = X.astype(float)\n",
        "    # Ensure floating-point division\n",
        "\n",
        "    X_min = X.min(axis=0)\n",
        "    # Minimum value per feature (column)\n",
        "\n",
        "    X_max = X.max(axis=0)\n",
        "    # Maximum value per feature (column)\n",
        "\n",
        "    # Avoid division by zero if feature has constant values\n",
        "    denom = np.where(X_max - X_min == 0, 1.0, X_max - X_min)\n",
        "\n",
        "    X_s = (X - X_min) / denom\n",
        "    # Scale each feature so it lies in [0, 1]\n",
        "\n",
        "    return X_s, X_min, X_max\n",
        "\n",
        "def mean_normalize(X):\n",
        "    \"\"\"\n",
        "    Perform Mean Normalization.\n",
        "    Formula: X' = (X - μ) / (X_max - X_min)\n",
        "\n",
        "    Centers data around mean 0 and scales according to range.\n",
        "\n",
        "    Returns:\n",
        "    --------\n",
        "    X_s : normalized features\n",
        "    mu : mean values of each feature\n",
        "    (X_min, X_max) : min and max values for each feature\n",
        "    \"\"\"\n",
        "\n",
        "    X = X.astype(float)\n",
        "    mu = X.mean(axis=0)\n",
        "    # Mean value per feature\n",
        "\n",
        "    X_min = X.min(axis=0)\n",
        "    X_max = X.max(axis=0)\n",
        "\n",
        "    # Avoid division by zero\n",
        "    denom = np.where(X_max - X_min == 0, 1.0, X_max - X_min)\n",
        "\n",
        "    X_s = (X - mu) / denom\n",
        "    # Shift mean to zero and scale by range\n",
        "\n",
        "    return X_s, mu, (X_min, X_max)\n",
        "\n",
        "def zscore_normalize(X):\n",
        "    \"\"\"\n",
        "    Perform Z-Score Normalization (Standardization).\n",
        "    Formula: X' = (X - μ) / σ\n",
        "\n",
        "    Centers data at 0 with standard deviation of 1.\n",
        "\n",
        "    Returns:\n",
        "    --------\n",
        "    X_s : standardized features\n",
        "    mu : mean values of each feature\n",
        "    sigma : standard deviations of each feature\n",
        "    \"\"\"\n",
        "\n",
        "    X = X.astype(float)\n",
        "    mu = X.mean(axis=0)\n",
        "    sigma = X.std(axis=0, ddof=0)\n",
        "    # ddof=0 → population standard deviation\n",
        "\n",
        "    # Avoid division by zero if σ = 0\n",
        "    sigma = np.where(sigma == 0, 1.0, sigma)\n",
        "\n",
        "    X_s = (X - mu) / sigma\n",
        "    # Center around 0, scale to unit variance\n",
        "\n",
        "    return X_s, mu, sigma"
      ]
    },
    {
      "cell_type": "code",
      "execution_count": 7,
      "id": "408d9886",
      "metadata": {
        "colab": {
          "base_uri": "https://localhost:8080/",
          "height": 334
        },
        "id": "408d9886",
        "outputId": "93d364bf-5ba0-4417-a02e-5bc67c407dcd"
      },
      "outputs": [
        {
          "output_type": "display_data",
          "data": {
            "text/plain": [
              "<Figure size 1400x300 with 4 Axes>"
            ],
            "image/png": "[encoded data removed]"
          },
          "metadata": {}
        }
      ],
      "source": [
        "# ------------------- Plot distributions *before* normalization -------------------\n",
        "\n",
        "fig, ax = plt.subplots(1, X_train.shape[1], figsize=(14, 3))\n",
        "# Create a row of subplots: 1 row, number of columns = number of features\n",
        "# figsize=(14, 3) → wide enough to fit all feature histograms in one row\n",
        "# ax is an array of Axes objects, one for each feature\n",
        "\n",
        "for i in range(X_train.shape[1]):\n",
        "    norm_plot(ax[i], X_train[:, i])\n",
        "    # Call our custom norm_plot() function to plot:\n",
        "    # - Histogram of feature i\n",
        "    # - Overlaid normal distribution curve (based on mean/std of that feature)\n",
        "\n",
        "    ax[i].set_xlabel(X_features[i])\n",
        "    # Label x-axis with the feature name (e.g., \"size(sqft)\", \"bedrooms\")\n",
        "\n",
        "ax[0].set_ylabel(\"density\")\n",
        "# Label y-axis for the first subplot (shared meaning across all plots)\n",
        "\n",
        "fig.suptitle(\"Distributions BEFORE normalization\")\n",
        "# Add an overall title for the figure\n",
        "\n",
        "plt.show()\n",
        "# Display the figure\n"
      ]
    },
    {
      "cell_type": "markdown",
      "id": "37e23219",
      "metadata": {
        "id": "37e23219"
      },
      "source": [
        "## 4) Linear regression helpers (cost, gradient, GD)"
      ]
    },
    {
      "cell_type": "code",
      "execution_count": null,
      "id": "945776ed",
      "metadata": {
        "id": "945776ed"
      },
      "outputs": [],
      "source": [
        "def predict(X, w, b):\n",
        "    \"\"\"\n",
        "    Compute predictions for given inputs using a linear model.\n",
        "\n",
        "    Parameters\n",
        "    ----------\n",
        "    X : ndarray, shape (m, n)\n",
        "        Input feature matrix.\n",
        "    w : ndarray, shape (n,)\n",
        "        Weight vector.\n",
        "    b : float\n",
        "        Bias term.\n",
        "\n",
        "    Returns\n",
        "    -------\n",
        "    y_pred : ndarray, shape (m,)\n",
        "        Predicted values.\n",
        "    \"\"\"\n",
        "    return X @ w + b\n",
        "    # Matrix multiplication: (m, n) @ (n,) → (m,)\n",
        "    # Adds bias b to each predicted value\n",
        "def compute_cost(X, y, w, b):\n",
        "    \"\"\"\n",
        "    Compute Mean Squared Error (MSE) cost function for linear regression.\n",
        "    Formula: J(w, b) = (1 / (2m)) * Σ (y_pred - y)^2\n",
        "\n",
        "    Parameters\n",
        "    ----------\n",
        "    X : ndarray, shape (m, n)\n",
        "        Input features.\n",
        "    y : ndarray, shape (m,)\n",
        "        True target values.\n",
        "    w : ndarray, shape (n,)\n",
        "        Model weights.\n",
        "    b : float\n",
        "        Model bias.\n",
        "\n",
        "    Returns\n",
        "    -------\n",
        "    J : float\n",
        "        Cost value (scalar).\n",
        "    \"\"\"\n",
        "    m = X.shape[0]\n",
        "    # Number of training examples\n",
        "\n",
        "    errors = X @ w + b - y\n",
        "    # Vector of prediction errors → (y_pred - y)\n",
        "\n",
        "    return (errors @ errors) / (2 * m)\n",
        "    # Equivalent to np.sum(errors ** 2) / (2*m)\n",
        "    # Factor 1/(2m) is for convenience in derivative calculations\n",
        "def compute_gradient(X, y, w, b):\n",
        "    \"\"\"\n",
        "    Compute gradient of the cost function w.r.t. weights and bias.\n",
        "\n",
        "    Parameters\n",
        "    ----------\n",
        "    X : ndarray, shape (m, n)\n",
        "        Input features.\n",
        "    y : ndarray, shape (m,)\n",
        "        True target values.\n",
        "    w : ndarray, shape (n,)\n",
        "        Model weights.\n",
        "    b : float\n",
        "        Model bias.\n",
        "\n",
        "    Returns\n",
        "    -------\n",
        "    dj_dw : ndarray, shape (n,)\n",
        "        Gradient of cost w.r.t. each weight.\n",
        "    dj_db : float\n",
        "        Gradient of cost w.r.t. bias.\n",
        "    \"\"\"\n",
        "    m = X.shape[0]\n",
        "\n",
        "    errors = X @ w + b - y\n",
        "    # Vector of prediction errors (m,)\n",
        "\n",
        "    dj_dw = (X.T @ errors) / m\n",
        "    # Gradient for weights: (n, m) @ (m,) → (n,)\n",
        "    # Average over all training examples\n",
        "\n",
        "    dj_db = np.sum(errors) / m\n",
        "    # Gradient for bias: scalar → mean error\n",
        "\n",
        "    return dj_dw, dj_db\n"
      ]
    },
    {
      "cell_type": "markdown",
      "id": "52ece207",
      "metadata": {
        "id": "52ece207"
      },
      "source": [
        "## 5) Train **without** scaling (expect slow/unstable with same α)"
      ]
    },
    {
      "cell_type": "code",
      "execution_count": null,
      "id": "ab18d523",
      "metadata": {
        "id": "ab18d523"
      },
      "outputs": [],
      "source": [
        "\n",
        "# Start with small random parameters\n",
        "n = X_train.shape[1]\n",
        "w0 = np.zeros(n)\n",
        "b0 = 0.0\n",
        "\n",
        "alpha = 1e-7        # tiny step to avoid divergence on unscaled data\n",
        "iters = 200\n",
        "\n",
        "w_ns, b_ns, J_ns, tr_ns = gradient_descent(X_train, y_train, w0, b0, alpha, iters)\n",
        "\n",
        "print(\"Unscaled   → final cost:\", J_ns[-1])\n",
        "print(\"Unscaled   → w:\", w_ns, \"b:\", round(b_ns, 2))\n",
        "\n",
        "plt.figure(figsize=(5,3))\n",
        "plt.plot(J_ns)\n",
        "plt.xlabel(\"iteration\")\n",
        "plt.ylabel(\"cost\")\n",
        "plt.title(\"Cost vs iteration (UNSCALED)\")\n",
        "plt.grid(True, alpha=0.3)\n",
        "plt.show()\n"
      ]
    },
    {
      "cell_type": "markdown",
      "id": "eb21cc9e",
      "metadata": {
        "id": "eb21cc9e"
      },
      "source": [
        "## 6) Train **with z‑score scaling** (can use a much larger α)"
      ]
    },
    {
      "cell_type": "code",
      "execution_count": null,
      "id": "f323d230",
      "metadata": {
        "id": "f323d230"
      },
      "outputs": [],
      "source": [
        "\n",
        "alpha_s = 5e-2      # much larger step on scaled features\n",
        "iters_s = 200\n",
        "\n",
        "w_s, b_s, J_s, tr_s = gradient_descent(X_norm, y_train, w0, b0, alpha_s, iters_s)\n",
        "\n",
        "print(\"Scaled (z) → final cost:\", J_s[-1])\n",
        "print(\"Scaled (z) → w:\", w_s, \"b:\", round(b_s, 2))\n",
        "\n",
        "plt.figure(figsize=(5,3))\n",
        "plt.plot(J_s)\n",
        "plt.xlabel(\"iteration\")\n",
        "plt.ylabel(\"cost\")\n",
        "plt.title(\"Cost vs iteration (SCALED, z‑score)\")\n",
        "plt.grid(True, alpha=0.3)\n",
        "plt.show()\n"
      ]
    },
    {
      "cell_type": "markdown",
      "id": "d2fa20b7",
      "metadata": {
        "id": "d2fa20b7"
      },
      "source": [
        "## 7) Targets vs predictions (using **normalized** model)"
      ]
    },
    {
      "cell_type": "code",
      "execution_count": null,
      "id": "7ce74dcc",
      "metadata": {
        "id": "7ce74dcc"
      },
      "outputs": [],
      "source": [
        "\n",
        "# Predictions with normalized features\n",
        "yp = predict(X_norm, w_s, b_s)\n",
        "\n",
        "fig, ax = plt.subplots(1, X_norm.shape[1], figsize=(14,3), sharey=True)\n",
        "for i in range(X_norm.shape[1]):\n",
        "    ax[i].scatter(X_train[:, i], y_train, label=\"target\")\n",
        "    ax[i].scatter(X_train[:, i], yp, marker='x', label=\"predict\")\n",
        "    ax[i].set_xlabel(X_features[i])\n",
        "ax[0].set_ylabel(\"Price\")\n",
        "ax[0].legend()\n",
        "fig.suptitle(\"Target vs Prediction using z‑score normalized model\")\n",
        "plt.show()\n"
      ]
    },
    {
      "cell_type": "markdown",
      "id": "4eb472eb",
      "metadata": {
        "id": "4eb472eb"
      },
      "source": [
        "## 8) Learning rate sweeps & parameter trace diagnostics"
      ]
    },
    {
      "cell_type": "code",
      "execution_count": null,
      "id": "8c6a0ad3",
      "metadata": {
        "id": "8c6a0ad3"
      },
      "outputs": [],
      "source": [
        "\n",
        "def plot_cost_and_param_trace(trace, param_index=0, title_suffix=\"\"):\n",
        "    \"\"\"Plot (left) cost vs iter and (right) a chosen weight evolution.\"\"\"\n",
        "    J = [t[0] for t in trace]\n",
        "    W = [t[1] for t in trace]\n",
        "    B = [t[2] for t in trace]\n",
        "    w_series = [w[param_index] for w in W]\n",
        "\n",
        "    fig = plt.figure(figsize=(10,3))\n",
        "    ax1 = plt.subplot(1,2,1)\n",
        "    ax1.plot(J)\n",
        "    ax1.set_xlabel(\"iteration\")\n",
        "    ax1.set_ylabel(\"cost\")\n",
        "    ax1.grid(True, alpha=0.3)\n",
        "\n",
        "    ax2 = plt.subplot(1,2,2)\n",
        "    ax2.plot(w_series)\n",
        "    ax2.set_xlabel(\"iteration\")\n",
        "    ax2.set_ylabel(f\"w[{param_index}]\")\n",
        "    ax2.grid(True, alpha=0.3)\n",
        "    fig.suptitle(f\"Convergence diagnostics{title_suffix}\")\n",
        "    plt.show()\n",
        "\n",
        "alphas = [0.5, 0.1, 0.05, 0.01, 0.005]\n",
        "iters = 120\n",
        "\n",
        "for a in alphas:\n",
        "    _, _, _, tr = gradient_descent(X_norm, y_train, np.zeros(X_norm.shape[1]), 0.0, a, iters)\n",
        "    plot_cost_and_param_trace(tr, 0, title_suffix=f\"  (alpha={a})\")\n"
      ]
    },
    {
      "cell_type": "markdown",
      "id": "b700f36a",
      "metadata": {
        "id": "b700f36a"
      },
      "source": [
        "## 9) Optional: Convert normalized weights back to original feature scale"
      ]
    },
    {
      "cell_type": "code",
      "execution_count": null,
      "id": "ba75471c",
      "metadata": {
        "id": "ba75471c"
      },
      "outputs": [],
      "source": [
        "\n",
        "# If the model was trained on z‑score normalized features:\n",
        "#   y ≈ ( (x - mu)/sigma )·w_s + b_s\n",
        "# Expand to get: y ≈ x·(w_s / sigma) + (b_s - mu·(w_s / sigma))\n",
        "w_back = w_s / sigma\n",
        "b_back = b_s - (mu @ w_back)\n",
        "\n",
        "print(\"Recovered weights in ORIGINAL scale:\")\n",
        "print(\"w_back:\", w_back)\n",
        "print(\"b_back:\", round(b_back, 2))\n"
      ]
    }
  ],
  "metadata": {
    "colab": {
      "provenance": [],
      "include_colab_link": true
    },
    "language_info": {
      "name": "python"
    },
    "kernelspec": {
      "name": "python3",
      "display_name": "Python 3"
    }
  },
  "nbformat": 4,
  "nbformat_minor": 5
}