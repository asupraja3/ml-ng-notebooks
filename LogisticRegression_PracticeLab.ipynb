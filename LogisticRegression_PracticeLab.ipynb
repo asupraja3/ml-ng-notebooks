{
  "cells": [
    {
      "cell_type": "markdown",
      "metadata": {
        "id": "view-in-github",
        "colab_type": "text"
      },
      "source": [
        "<a href=\"https://colab.research.google.com/github/asupraja3/ml-ng-notebooks/blob/main/LogisticRegression_PracticeLab.ipynb\" target=\"_parent\"><img src=\"https://colab.research.google.com/assets/colab-badge.svg\" alt=\"Open In Colab\"/></a>"
      ]
    },
    {
      "cell_type": "markdown",
      "id": "b3d12a50",
      "metadata": {
        "id": "b3d12a50"
      },
      "source": [
        "\n",
        "# Practice Lab: Logistic Regression\n",
        "\n",
        "This lab will help you **practice logistic regression** concepts from Andrew Ng's Machine Learning course.\n",
        "\n",
        "### You will practice:\n",
        "1. Sigmoid function implementation and visualization  \n",
        "2. Logistic regression hypothesis and cost function  \n",
        "3. Gradient descent updates  \n",
        "4. Decision boundary visualization  \n",
        "5. Model evaluation (accuracy)  \n",
        "6. Feature scaling and vectorization  \n",
        "7. Regularization (overview + implementation exercise)\n"
      ]
    },
    {
      "cell_type": "code",
      "execution_count": 2,
      "id": "89224959",
      "metadata": {
        "id": "89224959"
      },
      "outputs": [],
      "source": [
        "import numpy as np\n",
        "import matplotlib.pyplot as plt\n",
        "np.random.seed(42)"
      ]
    },
    {
      "cell_type": "markdown",
      "id": "75722226",
      "metadata": {
        "id": "75722226"
      },
      "source": [
        "\n",
        "## 1. Sigmoid Function\n",
        "\n",
        "The logistic regression hypothesis uses the **sigmoid function**:  \n",
        "$ \\sigma(z) = \\frac{1}{1 + e^{-z}} $\n",
        "\n",
        "✅ **Exercise:** Implement `sigmoid(z)` and test on values [-10, 0, 10].\n"
      ]
    },
    {
      "cell_type": "code",
      "execution_count": 3,
      "id": "f50dfa92",
      "metadata": {
        "colab": {
          "base_uri": "https://localhost:8080/"
        },
        "id": "f50dfa92",
        "outputId": "6d458626-26df-441e-cf9a-aa87b099d656"
      },
      "outputs": [
        {
          "output_type": "stream",
          "name": "stdout",
          "text": [
            "Sigmoid [4.53978687e-05 5.00000000e-01 9.99954602e-01]\n"
          ]
        }
      ],
      "source": [
        "def sigmoid(z):\n",
        "  return 1/( 1 + np.exp(-z) )\n",
        "\n",
        "x = np.array([-10, 0, 10])\n",
        "print(\"Sigmoid\", sigmoid(x))"
      ]
    },
    {
      "cell_type": "markdown",
      "id": "c26f3585",
      "metadata": {
        "id": "c26f3585"
      },
      "source": [
        "\n",
        "## 2. Logistic Regression Hypothesis & Cost\n",
        "\n",
        "**Hypothesis:**  \n",
        "$ h(x) = \\sigma(w^T x + b) $\n",
        "\n",
        "**Loss for one example:**  \n",
        "$ L = - \\big( y \\log(h(x)) + (1-y)\\log(1-h(x)) \\big) $\n",
        "\n",
        "**Cost function:**  \n",
        "$ J(w,b) = -\\frac{1}{m} \\sum_{i=1}^m \\Big[ y^{(i)} \\log(h(x^{(i)})) + (1-y^{(i)}) \\log(1-h(x^{(i)})) \\Big] $\n",
        "\n",
        "✅ **Exercise:** Implement the cost function `compute_cost_logistic(X, y, w, b)`.\n"
      ]
    },
    {
      "cell_type": "code",
      "execution_count": 5,
      "id": "ef55d6f0",
      "metadata": {
        "colab": {
          "base_uri": "https://localhost:8080/"
        },
        "id": "ef55d6f0",
        "outputId": "a925dd74-d9ff-483f-a1e7-db937732cf7a"
      },
      "outputs": [
        {
          "output_type": "stream",
          "name": "stdout",
          "text": [
            "Cost = -0.4746123093152604\n"
          ]
        }
      ],
      "source": [
        "def compute_cost_logistic(X, y, w, b):\n",
        "  m = X.shape[0]\n",
        "  z = X @ w + b\n",
        "  h = sigmoid(z)\n",
        "  cost = -( 1/m ) * np.sum((y*np.log(h)) - ((1-y)*(np.log(1-h))))\n",
        "  return cost\n",
        "\n",
        "X_t = np.array([[0.2, 0.4], [0.5, 0.9], [0.8, 0.1]])\n",
        "y_t = np.array([0,1,0])\n",
        "w_t = np.array([0.1, -0.2])\n",
        "b_t = 0.5\n",
        "print(\"Cost =\", compute_cost_logistic(X_t, y_t, w_t, b_t))"
      ]
    },
    {
      "cell_type": "markdown",
      "id": "728f5053",
      "metadata": {
        "id": "728f5053"
      },
      "source": [
        "\n",
        "## 3. Gradient Descent for Logistic Regression\n",
        "\n",
        "**Gradients:**\n",
        "\n",
        "$ \\frac{\\partial J}{\\partial w} = \\frac{1}{m} \\sum_{i=1}^m \\big( h(x^{(i)}) - y^{(i)} \\big) x^{(i)} $\n",
        "\n",
        "$ \\frac{\\partial J}{\\partial b} = \\frac{1}{m} \\sum_{i=1}^m \\big( h(x^{(i)}) - y^{(i)} \\big) $\n",
        "\n",
        "\n",
        "✅ **Exercise:** Implement `compute_gradient_logistic` and `gradient_descent_logistic`.\n"
      ]
    },
    {
      "cell_type": "code",
      "execution_count": 22,
      "id": "c96598d4",
      "metadata": {
        "colab": {
          "base_uri": "https://localhost:8080/"
        },
        "id": "c96598d4",
        "outputId": "60c1385c-9c12-43fb-fe32-6cbe53424430"
      },
      "outputs": [
        {
          "output_type": "stream",
          "name": "stdout",
          "text": [
            "w: [-0.09332217  5.51141258]  b: -3.5029920620660726\n"
          ]
        }
      ],
      "source": [
        "def compute_gradient_logistic(X, y, w, b):\n",
        "  m,n = X.shape\n",
        "  z = X @ w + b\n",
        "  h = sigmoid(z)\n",
        "  err = h - y\n",
        "  dj_dw = ( X.T @ err ) / m\n",
        "  dj_db = np.sum(err) / m\n",
        "  return dj_dw , dj_db\n",
        "\n",
        "def gradient_descent_logistic(X, y, w, b, alpha , num_iter):\n",
        "  cost_hist = []\n",
        "  for i in range(num_iter):\n",
        "    dj_dw ,dj_db = compute_gradient_logistic(X, y, w, b)\n",
        "    w -= alpha * dj_dw\n",
        "    b -= alpha * dj_db\n",
        "    if i % 100 == 0:\n",
        "      cost = compute_cost_logistic(X, y, w, b)\n",
        "      cost_hist.append(cost)\n",
        "  return w, b, cost_hist\n",
        "\n",
        "# Test\n",
        "w_t = np.zeros(X_t.shape[1])\n",
        "b_t = 0\n",
        "w_final, b_final, hist = gradient_descent_logistic(X_t, y_t, w_t, b_t, alpha=0.1, num_iter=1000)\n",
        "print(\"w:\", w_final, \" b:\", b_final)\n",
        "\n"
      ]
    },
    {
      "cell_type": "markdown",
      "id": "6056eb0c",
      "metadata": {
        "id": "6056eb0c"
      },
      "source": [
        "\n",
        "## 4. Decision Boundary Visualization\n",
        "\n",
        "For 2D data, the decision boundary is defined by:  \n",
        "\n",
        "$ w^T x + b = 0 $  \n",
        "\n",
        "Expanding for two features $x_1$ and $x_2$:  \n",
        "\n",
        "$ w_1 x_1 + w_2 x_2 + b = 0 $  \n",
        "\n",
        "We can solve for $x_2$:  \n",
        "\n",
        "$ x_2 = -\\frac{w_1}{w_2} x_1 - \\frac{b}{w_2} $\n",
        "\n",
        "\n",
        "✅ **Exercise:** Train logistic regression on synthetic data and plot boundary.\n"
      ]
    },
    {
      "cell_type": "code",
      "execution_count": 23,
      "id": "3787266b",
      "metadata": {
        "colab": {
          "base_uri": "https://localhost:8080/",
          "height": 489
        },
        "id": "3787266b",
        "outputId": "57d28e03-07aa-4a5e-bb2a-b0295b29e2cc"
      },
      "outputs": [
        {
          "output_type": "stream",
          "name": "stdout",
          "text": [
            "[np.float64(-0.00024269863690679628), np.float64(-0.010177929792897509), np.float64(-0.013059252322273812), np.float64(-0.01422922450440799), np.float64(-0.014787847509816932), np.float64(-0.015074366097587997), np.float64(-0.01522750463915589), np.float64(-0.015311892965177792), np.float64(-0.015359745341177318), np.float64(-0.015387752644070794), np.float64(-0.015404785375365193), np.float64(-0.015415650945144927), np.float64(-0.015422999673507163), np.float64(-0.015428316083651408), np.float64(-0.0154324441626246), np.float64(-0.015435870312003075), np.float64(-0.015438878242785005), np.float64(-0.015441635140138967), np.float64(-0.0154442403496455), np.float64(-0.015446753291884989)]\n"
          ]
        },
        {
          "output_type": "display_data",
          "data": {
            "text/plain": [
              "<Figure size 640x480 with 1 Axes>"
            ],
            "image/png": "[encoded data removed]"
          },
          "metadata": {}
        }
      ],
      "source": [
        "from sklearn.datasets import make_classification\n",
        "\n",
        "X,y = make_classification(n_samples=100, n_features=2, n_redundant=0, n_informative=2,\n",
        " n_clusters_per_class=1, flip_y=0.1, class_sep=1.5, random_state=1)\n",
        "\n",
        "w = np.zeros(X.shape[1])\n",
        "b = 0\n",
        "w_fit, b_fit, cost = gradient_descent_logistic(X, y, w, b, alpha =  0.1, num_iter = 2000)\n",
        "print(cost)\n",
        "\n",
        "plt.scatter(X[y==0,0], X[y==0,1], label=\"y=0\")\n",
        "plt.scatter(X[y==1,0], X[y==1,1], label=\"y=1\")\n",
        "\n",
        "x_vals = np.linspace(X[:,0].min(), X[:,0].max(), 100)\n",
        "y_vals = -(w_fit[0]*x_vals + b_fit)/w_fit[1]\n",
        "plt.plot(x_vals, y_vals, 'r--', label=\"Decision boundary\")\n",
        "plt.legend()\n",
        "plt.title(\"Logistic Regression Decision Boundary\")\n",
        "plt.show()"
      ]
    },
    {
      "cell_type": "markdown",
      "id": "baa7a518",
      "metadata": {
        "id": "baa7a518"
      },
      "source": [
        "\n",
        "## 5. Model Evaluation\n",
        "\n",
        "$ \\text{Accuracy} = \\dfrac{\\text{Number of correct predictions}}{\\text{Total number of predictions}} $\n",
        "\n",
        "\n",
        "✅ **Exercise:** Implement accuracy function.\n"
      ]
    },
    {
      "cell_type": "code",
      "execution_count": 11,
      "id": "d621ae17",
      "metadata": {
        "colab": {
          "base_uri": "https://localhost:8080/"
        },
        "id": "d621ae17",
        "outputId": "acdab632-eb43-443c-f222-50c7158d9826"
      },
      "outputs": [
        {
          "output_type": "stream",
          "name": "stdout",
          "text": [
            "Train Accuracy: 0.98\n"
          ]
        }
      ],
      "source": [
        "\n",
        "\n",
        "def predict(X, w, b, threshold=0.5):\n",
        "    return (sigmoid(X @ w + b) >= threshold).astype(int)\n",
        "\n",
        "def accuracy(X, y, w, b):\n",
        "    preds = predict(X, w, b)\n",
        "    return np.mean(preds == y)\n",
        "\n",
        "print(\"Train Accuracy:\", accuracy(X, y, w_fit, b_fit))"
      ]
    },
    {
      "cell_type": "markdown",
      "id": "be6c0475",
      "metadata": {
        "id": "be6c0475"
      },
      "source": [
        "\n",
        "## 6. Feature Scaling & Vectorization\n",
        "\n",
        "- Scaling helps convergence.  \n",
        "- Vectorization speeds up training.\n",
        "\n",
        "✅ **Exercise:** Scale X and retrain.\n"
      ]
    },
    {
      "cell_type": "code",
      "execution_count": 14,
      "id": "744b9f3a",
      "metadata": {
        "colab": {
          "base_uri": "https://localhost:8080/"
        },
        "id": "744b9f3a",
        "outputId": "6f6337d4-41c2-47ed-d7c3-661941129377"
      },
      "outputs": [
        {
          "output_type": "stream",
          "name": "stdout",
          "text": [
            "Accuracy after scaling: 0.98\n"
          ]
        }
      ],
      "source": [
        "X_norm = (X - X.mean(axis=0)) / X.std(axis=0)\n",
        "w = np.zeros(X.shape[1])\n",
        "b = 0\n",
        "w_fit, b_fit, _ = gradient_descent_logistic(X_norm, y, w, b, alpha=0.1, num_iter=2000)\n",
        "print(\"Accuracy after scaling:\", accuracy(X_norm, y, w_fit, b_fit))\n",
        "\n"
      ]
    },
    {
      "cell_type": "markdown",
      "id": "c46adef9",
      "metadata": {
        "id": "c46adef9"
      },
      "source": [
        "\n",
        "## 7. Regularization (Bonus)\n",
        "\n",
        "**Regularized Cost Function:**  \n",
        "\n",
        "$ J(w,b) = \\text{Logistic Loss} + \\dfrac{\\lambda}{2m} \\sum_{j=1}^{n} w_j^2 $  \n",
        "\n",
        "where the logistic loss is:  \n",
        "\n",
        "$ -\\dfrac{1}{m} \\sum_{i=1}^m \\Big[ y^{(i)} \\log(h(x^{(i)})) + (1-y^{(i)}) \\log(1-h(x^{(i)})) \\Big] $\n",
        "\n",
        "\n",
        "✅ **Exercise:** Modify cost and gradient functions to include L2 penalty.\n"
      ]
    },
    {
      "cell_type": "code",
      "source": [
        "lambda_ = 0.4\n",
        "m = X.shape[0]\n",
        "reg_cost = compute_cost_logistic(X, y, w, b) + (lambda_ / (2*m)) * np.sum(np.square(w))\n",
        "print(reg_cost)"
      ],
      "metadata": {
        "colab": {
          "base_uri": "https://localhost:8080/"
        },
        "id": "sQ_xcBDDAJd-",
        "outputId": "7f7be6a5-ce2c-4cb3-b7b2-fed2d7d9ea49"
      },
      "id": "sQ_xcBDDAJd-",
      "execution_count": 16,
      "outputs": [
        {
          "output_type": "stream",
          "name": "stdout",
          "text": [
            "0.004327629549526257\n"
          ]
        }
      ]
    },
    {
      "cell_type": "markdown",
      "id": "8fa5f270",
      "metadata": {
        "id": "8fa5f270"
      },
      "source": [
        "\n",
        "## ✅ Takeaways\n",
        "\n",
        "- Logistic regression outputs **probabilities** using sigmoid.  \n",
        "- Cost function: **log-loss**, convex and well-suited for classification.  \n",
        "- Gradient descent optimizes weights iteratively.  \n",
        "- Decision boundary is linear in features.  \n",
        "- Feature mapping + regularization improve performance.  \n",
        "- Scaling accelerates convergence.\n",
        "\n",
        "Now, experiment with different datasets, learning rates, and λ values! 🚀\n"
      ]
    }
  ],
  "metadata": {
    "colab": {
      "provenance": [],
      "include_colab_link": true
    },
    "language_info": {
      "name": "python"
    },
    "kernelspec": {
      "name": "python3",
      "display_name": "Python 3"
    }
  },
  "nbformat": 4,
  "nbformat_minor": 5
}