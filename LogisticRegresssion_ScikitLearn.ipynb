{
  "nbformat": 4,
  "nbformat_minor": 0,
  "metadata": {
    "colab": {
      "provenance": [],
      "authorship_tag": "ABX9TyM2S16lDOVtBA3dfw+jM9hV",
      "include_colab_link": true
    },
    "kernelspec": {
      "name": "python3",
      "display_name": "Python 3"
    },
    "language_info": {
      "name": "python"
    }
  },
  "cells": [
    {
      "cell_type": "markdown",
      "metadata": {
        "id": "view-in-github",
        "colab_type": "text"
      },
      "source": [
        "<a href=\"https://colab.research.google.com/github/asupraja3/ml-ng-notebooks/blob/main/LogisticRegresssion_ScikitLearn.ipynb\" target=\"_parent\"><img src=\"https://colab.research.google.com/assets/colab-badge.svg\" alt=\"Open In Colab\"/></a>"
      ]
    },
    {
      "cell_type": "markdown",
      "source": [
        "# Ungraded Lab: Logistic Regression using Scikit-Learn\n",
        "\n",
        "---\n",
        "\n",
        "## Goals\n",
        "In this lab you will:  \n",
        "- Train a logistic regression model using **scikit-learn**  \n",
        "- Evaluate its predictions and accuracy  \n",
        "\n",
        "---\n",
        "\n",
        "## Dataset\n",
        "We will use the same small 2D dataset as in earlier labs.  \n",
        "Each training example $x^{(i)} = [x_1^{(i)}, x_2^{(i)}]$ has two features, and labels are binary:  \n",
        "\n",
        "$$ y^{(i)} \\in \\{0,1\\} $$\n"
      ],
      "metadata": {
        "id": "EKNGDswCn9A-"
      }
    },
    {
      "cell_type": "code",
      "execution_count": 1,
      "metadata": {
        "id": "_-1b-sDInr-B"
      },
      "outputs": [],
      "source": [
        "import numpy as np\n",
        "\n",
        "# Feature matrix X: shape (6, 2)\n",
        "X = np.array([\n",
        "    [0.5, 1.5],    # Example 1\n",
        "    [1.0, 1.0],    # Example 2\n",
        "    [1.5, 0.5],    # Example 3\n",
        "    [3.0, 0.5],    # Example 4\n",
        "    [2.0, 2.0],    # Example 5\n",
        "    [1.0, 2.5]     # Example 6\n",
        "])\n",
        "\n",
        "# Labels y: shape (6,)\n",
        "y = np.array([0, 0, 0, 1, 1, 1])\n"
      ]
    }
  ]
}