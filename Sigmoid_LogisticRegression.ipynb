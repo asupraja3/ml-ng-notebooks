{
  "cells": [
    {
      "cell_type": "markdown",
      "metadata": {
        "id": "view-in-github",
        "colab_type": "text"
      },
      "source": [
        "<a href=\"https://colab.research.google.com/github/asupraja3/ml-ng-notebooks/blob/main/Sigmoid_LogisticRegression.ipynb\" target=\"_parent\"><img src=\"https://colab.research.google.com/assets/colab-badge.svg\" alt=\"Open In Colab\"/></a>"
      ]
    },
    {
      "cell_type": "markdown",
      "id": "96da427b",
      "metadata": {
        "id": "96da427b"
      },
      "source": [
        "\n",
        "# Optional Lab: Sigmoid Function & Logistic Regression\n",
        "\n",
        "*Adapted, self-contained notebook inspired by Andrew Ng's Machine Learning Specialization.*\n",
        "\n",
        "In this ungraded lab, you will:\n",
        "- Explore the **sigmoid** (logistic) function.\n",
        "- See how **logistic regression** uses the sigmoid to map a linear model into probabilities in \\([0,1]\\).\n"
      ]
    },
    {
      "cell_type": "markdown",
      "id": "bdcfad17",
      "metadata": {
        "id": "bdcfad17"
      },
      "source": [
        "\n",
        "## Tools\n",
        "\n",
        "We will use:\n",
        "- **NumPy** for scientific computing.\n",
        "- **Matplotlib** for plotting.\n",
        "- **scikit-learn** for a simple logistic regression model.\n"
      ]
    },
    {
      "cell_type": "code",
      "execution_count": null,
      "id": "48b6d510",
      "metadata": {
        "id": "48b6d510"
      },
      "outputs": [],
      "source": [
        "\n",
        "# === Setup ===\n",
        "import numpy as np\n",
        "import matplotlib.pyplot as plt\n",
        "from sklearn.linear_model import LogisticRegression\n",
        "from sklearn.metrics import accuracy_score, confusion_matrix, classification_report\n",
        "\n",
        "# If running outside classic Jupyter, you might need: %matplotlib inline\n",
        "np.set_printoptions(precision=4, suppress=True)\n"
      ]
    },
    {
      "cell_type": "markdown",
      "id": "d3cf0555",
      "metadata": {
        "id": "d3cf0555"
      },
      "source": [
        "## Sigmoid (Logistic) Function\n",
        "\n",
        "For classification, we want outputs between **0 and 1** (interpretable as probabilities).  \n",
        "The **sigmoid** function maps any real-valued input $z$ maps to $g(z) \\in (0,1)$:\n",
        "\n",
        "$$\n",
        "g(z) = \\frac{1}{1 + e^{-z}}\n",
        "$$\n",
        "\n",
        "- As $z \\to -\\infty$, $g(z) \\to 0$  \n",
        "- As $z \\to +\\infty$, $g(z) \\to 1$\n",
        "\n",
        "Below, we implement it and try array/scalar inputs.\n"
      ]
    },
    {
      "cell_type": "code",
      "execution_count": null,
      "id": "357ff4df",
      "metadata": {
        "colab": {
          "base_uri": "https://localhost:8080/"
        },
        "id": "357ff4df",
        "outputId": "16983bb3-f496-41ca-e7be-81f531c2551e"
      },
      "outputs": [
        {
          "output_type": "stream",
          "name": "stdout",
          "text": [
            "Input to exp: [1 2 3]\n",
            "Output of exp: [ 2.7183  7.3891 20.0855]\n",
            "Input to exp: 1.0\n",
            "Output of exp: 2.718281828459045\n"
          ]
        }
      ],
      "source": [
        "\n",
        "# --- Exponential demo (like in-course walkthrough) ---\n",
        "\n",
        "# Input is an array\n",
        "input_array = np.array([1, 2, 3])\n",
        "exp_array = np.exp(input_array)\n",
        "print(\"Input to exp:\", input_array)\n",
        "print(\"Output of exp:\", exp_array)\n",
        "\n",
        "# Input is a single number (scalar)\n",
        "input_val = 1.0\n",
        "exp_val = np.exp(input_val)\n",
        "print(\"Input to exp:\", input_val)\n",
        "print(\"Output of exp:\", exp_val)\n"
      ]
    },
    {
      "cell_type": "code",
      "execution_count": null,
      "id": "a6e84434",
      "metadata": {
        "colab": {
          "base_uri": "https://localhost:8080/"
        },
        "id": "a6e84434",
        "outputId": "26ce1011-56a0-43cc-d764-745339b29722"
      },
      "outputs": [
        {
          "output_type": "stream",
          "name": "stdout",
          "text": [
            "z array: [-6. -3. -1.  0.  1.  3.  6.]\n",
            "sigmoid(z array): [0.0025 0.0474 0.2689 0.5    0.7311 0.9526 0.9975]\n",
            "z scalar: -2.0  -> sigmoid(z): 0.11920292202211755\n"
          ]
        }
      ],
      "source": [
        "\n",
        "# --- Sigmoid implementation ---\n",
        "def sigmoid(z):\n",
        "    \"\"\"\n",
        "    Vectorized sigmoid function.\n",
        "    Works for:\n",
        "      - Scalars (single number)\n",
        "      - 1D arrays (vectors)\n",
        "      - N-dimensional arrays (matrices, tensors)\n",
        "\n",
        "    Formula:\n",
        "        sigmoid(z) = 1 / (1 + exp(-z))\n",
        "\n",
        "    Purpose:\n",
        "        - Maps any real-valued number into the range (0, 1)\n",
        "        - Used in logistic regression to interpret model output as probability\n",
        "\n",
        "    This implementation improves numerical stability for large |z| values\n",
        "    to prevent overflow/underflow when computing exp(-z).\n",
        "    \"\"\"\n",
        "\n",
        "    # Convert input to NumPy array of floats (ensures consistent behavior)\n",
        "    z = np.array(z, dtype=float) # [-6. -3. -1.  0.  1.  3.  6.]\n",
        "\n",
        "    # Allocate output array with same shape/type as z\n",
        "    out = np.empty_like(z, dtype=float) #out:  [-6. -3. -1.  0.  1.  3.  6.]\n",
        "\n",
        "    # Boolean mask: positions where z >= 0 (positive or zero values)\n",
        "    pos = z >= 0 #Egs pos:  [False False False  True  True  True  True]\n",
        "\n",
        "    # Boolean mask: positions where z < 0 (negative values)\n",
        "    neg = ~pos  # \"~\" is bitwise NOT → flips True/False\n",
        "    #neg:  [ True  True  True False False False False]\n",
        "\n",
        "    # ---------------------------------------------------------\n",
        "    # Case 1: z >= 0\n",
        "    # Regular formula works fine here without overflow risk\n",
        "    # ---------------------------------------------------------\n",
        "    out[pos] = 1.0 / (1.0 + np.exp(-z[pos])) #[pos] returns only the elements of out where pos is True.\n",
        "\n",
        "    # ---------------------------------------------------------\n",
        "    # Case 2: z < 0\n",
        "    # For large negative z, exp(-z) overflows (too large)\n",
        "    # So we rewrite the sigmoid:\n",
        "    #   sigmoid(z) = 1 / (1 + exp(-z))\n",
        "    #              = exp(z) / (1 + exp(z))\n",
        "    # This form avoids computing exp(-z) for large |z|\n",
        "    # ---------------------------------------------------------\n",
        "    ez = np.exp(z[neg]) #Notice theres no minus\"-\" To avoid large numbers of ez\n",
        "\n",
        "    #[neg] returns only the elements of out where neg is True.\n",
        "    out[neg] = ez / (1.0 + ez) # same formula rearranged to avoid overlfow or blowup\n",
        "\n",
        "    # Return array of same shape as z, each value in (0, 1)\n",
        "    return out\n",
        "\n",
        "# Try sigmoid with array & scalar\n",
        "z_array = np.array([-6, -3, -1, 0, 1, 3, 6], dtype=float)\n",
        "print(\"z array:\", z_array)\n",
        "print(\"sigmoid(z array):\", sigmoid(z_array))\n",
        "\n",
        "z_scalar = -2.0\n",
        "print(\"z scalar:\", z_scalar, \" -> sigmoid(z):\", float(sigmoid(z_scalar)))\n"
      ]
    },
    {
      "cell_type": "code",
      "execution_count": null,
      "id": "e2e1c9f7",
      "metadata": {
        "colab": {
          "base_uri": "https://localhost:8080/",
          "height": 333
        },
        "id": "e2e1c9f7",
        "outputId": "c2e172b5-b2c7-4380-9d63-d19355149dce"
      },
      "outputs": [
        {
          "output_type": "display_data",
          "data": {
            "text/plain": [
              "<Figure size 600x300 with 1 Axes>"
            ],
            "image/png": "[encoded data removed]"
          },
          "metadata": {}
        }
      ],
      "source": [
        "\n",
        "# --- Plot the sigmoid curve ---\n",
        "\n",
        "# Create an array of 400 evenly spaced values between -8 and 8\n",
        "# np.linspace(start, stop, num_points):\n",
        "#   - start = -8   → lower bound of z\n",
        "#   - stop = 8     → upper bound of z\n",
        "#   - num_points = 400 → number of equally spaced samples\n",
        "# This range covers both large negative, near-zero, and large positive inputs,\n",
        "# allowing us to see the full \"S\" shape of the sigmoid.\n",
        "z = np.linspace(-8, 8, 400)\n",
        "\n",
        "# Apply the sigmoid function to each value in z\n",
        "#   - Since our sigmoid is vectorized, it will process the whole array at once.\n",
        "#   - g will be the same shape as z (400 values), each in the range (0, 1).\n",
        "#   - For large negative z → g ~ 0\n",
        "#   - For z = 0 → g = 0.5\n",
        "#   - For large positive z → g ~ 1\n",
        "g = sigmoid(z)\n",
        "\n",
        "\n",
        "plt.figure(figsize=(6, 3))\n",
        "plt.plot(z, g)\n",
        "plt.axvline(0, linestyle='--', linewidth=1)\n",
        "plt.axhline(0.5, linestyle='--', linewidth=1)\n",
        "plt.xlabel(\"z\")\n",
        "plt.ylabel(\"g(z)\")\n",
        "plt.title(\"Sigmoid / Logistic Function\")\n",
        "plt.ylim(-0.05, 1.05)\n",
        "plt.grid(True, alpha=0.3)\n",
        "plt.show()\n"
      ]
    },
    {
      "cell_type": "markdown",
      "id": "1e8e7787",
      "metadata": {
        "id": "1e8e7787"
      },
      "source": [
        "## Logistic Regression\n",
        "\n",
        "A logistic regression model applies the sigmoid to the familiar linear model:\n",
        "\n",
        "$$\n",
        "f_{w,b}(x) = g(w^\\top x + b), \\quad \\text{where} \\quad g(z) = \\frac{1}{1+e^{-z}}\n",
        "$$\n",
        "\n",
        "- The term $z = w^\\top x + b$ is a **linear regression** output.  \n",
        "- Passing $z$ through the **sigmoid** yields a **probability**: $P(y=1 \\mid x)$.  \n",
        "- The usual decision rule is: predict **1** if $f_{w,b}(x) \\ge 0.5$, else **0**.\n"
      ]
    },
    {
      "cell_type": "code",
      "execution_count": null,
      "id": "eef21e78",
      "metadata": {
        "colab": {
          "base_uri": "https://localhost:8080/"
        },
        "id": "eef21e78",
        "outputId": "4718740a-f60b-4a8c-b6f3-c9a93a77f0b4"
      },
      "outputs": [
        {
          "output_type": "stream",
          "name": "stdout",
          "text": [
            "X shape: (6, 1) y shape: (6,)\n"
          ]
        }
      ],
      "source": [
        "# --- Small 1D classification dataset (tumor size -> malignant?) ---\n",
        "\n",
        "# Feature values (tumor sizes in cm, for example)\n",
        "# Each number represents the size of a tumor.\n",
        "# We use float values for consistency in ML workflows.\n",
        "x_train = np.array([0., 1., 2., 3., 4., 5.])\n",
        "\n",
        "# Labels: 0 = benign tumor, 1 = malignant tumor\n",
        "# First three tumors are benign, last three are malignant.\n",
        "y_train = np.array([0, 0, 0, 1, 1, 1])\n",
        "\n",
        "# ------------------------------------------------------\n",
        "# Reshape the feature array into shape (m, 1)\n",
        "#   - m = number of training examples (here: 6)\n",
        "#   - 1 = number of features (here: tumor size only)\n",
        "# Why?\n",
        "#   - scikit-learn expects input features as a 2D array: (m, n_features)\n",
        "#   - Right now, x_train is shape (6,), which is 1D.\n",
        "#   - reshape(-1, 1) converts it to shape (6, 1):\n",
        "#       - -1 tells NumPy to figure out the number of rows automatically.\n",
        "#       - 1 specifies 1 column (our single feature).\n",
        "X = x_train.reshape(-1, 1)\n",
        "\n",
        "# Display the shapes to confirm\n",
        "print(\"X shape:\", X.shape, \"y shape:\", y_train.shape)\n",
        "# Output:\n",
        "# X shape: (6, 1)  → 6 examples, 1 feature each\n",
        "# y shape: (6,)    → 6 labels\n",
        "\n"
      ]
    },
    {
      "cell_type": "code",
      "execution_count": null,
      "id": "aee22cba",
      "metadata": {
        "colab": {
          "base_uri": "https://localhost:8080/",
          "height": 576
        },
        "id": "aee22cba",
        "outputId": "39a23897-2612-472b-cfc1-cd641dc684c4"
      },
      "outputs": [
        {
          "output_type": "stream",
          "name": "stdout",
          "text": [
            "w (coef): [[1.1206]] b (intercept): [-2.8018]\n",
            "Accuracy: 1.0\n",
            "Confusion Matrix:\n",
            " [[3 0]\n",
            " [0 3]]\n",
            "              precision    recall  f1-score   support\n",
            "\n",
            "           0      1.000     1.000     1.000         3\n",
            "           1      1.000     1.000     1.000         3\n",
            "\n",
            "    accuracy                          1.000         6\n",
            "   macro avg      1.000     1.000     1.000         6\n",
            "weighted avg      1.000     1.000     1.000         6\n",
            "\n"
          ]
        },
        {
          "output_type": "display_data",
          "data": {
            "text/plain": [
              "<Figure size 600x300 with 1 Axes>"
            ],
            "image/png": "[encoded data removed]"
          },
          "metadata": {}
        }
      ],
      "source": [
        "# --- Fit logistic regression and inspect ---\n",
        "\n",
        "# 1. Create a LogisticRegression model\n",
        "# solver='lbfgs':\n",
        "#   - Optimization algorithm to find the best weights (w) and bias (b)\n",
        "#   - Works well for small/medium datasets\n",
        "logreg = LogisticRegression(solver='lbfgs')\n",
        "\n",
        "# 2. Fit (train) the model on the data\n",
        "# X: feature matrix of shape (m, 1)\n",
        "# y_train: labels (0 or 1)\n",
        "# This finds w and b that minimize the log loss.\n",
        "logreg.fit(X, y_train)\n",
        "\n",
        "# ------------------------------------------------------\n",
        "# 3. Predict probabilities for each training example\n",
        "# predict_proba(X):\n",
        "#   - Returns probabilities for both classes in shape (m, 2)\n",
        "#   - Column 0 = P(y=0 | x)\n",
        "#   - Column 1 = P(y=1 | x)\n",
        "# [:, 1] selects only the probability of class 1\n",
        "proba = logreg.predict_proba(X)[:, 1]\n",
        "\n",
        "# 4. Apply a 0.5 threshold to convert probabilities to class labels\n",
        "# If P(y=1) >= 0.5 → predict class 1, else predict class 0\n",
        "y_pred = (proba >= 0.5).astype(int)\n",
        "\n",
        "# ------------------------------------------------------\n",
        "# 5. Inspect model parameters and evaluation metrics\n",
        "\n",
        "# logreg.coef_ : learned weight(s) for each feature → shape (1, n_features)\n",
        "# logreg.intercept_ : learned bias term\n",
        "print(\"w (coef):\", logreg.coef_, \"b (intercept):\", logreg.intercept_)\n",
        "\n",
        "# accuracy_score: proportion of correct predictions\n",
        "print(\"Accuracy:\", accuracy_score(y_train, y_pred))\n",
        "\n",
        "# confusion_matrix: shows counts of TP, TN, FP, FN\n",
        "print(\"Confusion Matrix:\\n\", confusion_matrix(y_train, y_pred))\n",
        "\n",
        "# classification_report: precision, recall, F1-score for each class\n",
        "# digits=3 formats numbers to 3 decimal places\n",
        "print(classification_report(y_train, y_pred, digits=3))\n",
        "\n",
        "# ------------------------------------------------------\n",
        "# 6. Prepare data for plotting the probability curve\n",
        "\n",
        "# Create 200 evenly spaced values in the range:\n",
        "#   (min feature value - 0.5) to (max feature value + 0.5)\n",
        "# This ensures the curve extends slightly beyond the training points\n",
        "xs = np.linspace(x_train.min() - 0.5, x_train.max() + 0.5, 200).reshape(-1, 1)\n",
        "\n",
        "# Predict probabilities for class 1 at each xs point\n",
        "# This will be used to draw the smooth sigmoid curve\n",
        "probs = logreg.predict_proba(xs)[:, 1]\n",
        "\n",
        "\n",
        "plt.figure(figsize=(6, 3))\n",
        "plt.scatter(x_train[y_train==0], y_train[y_train==0], marker='o', label='y=0')\n",
        "plt.scatter(x_train[y_train==1], y_train[y_train==1], marker='x', label='y=1')\n",
        "plt.plot(xs, probs, label='P(y=1 | x)')\n",
        "plt.axhline(0.5, linestyle='--', linewidth=1, label='0.5 threshold')\n",
        "plt.xlabel(\"Tumor size (x)\")\n",
        "plt.ylabel(\"Probability / label\")\n",
        "plt.title(\"Logistic Regression on Categorical Data\")\n",
        "plt.ylim(-0.1, 1.1)\n",
        "plt.legend()\n",
        "plt.grid(True, alpha=0.3)\n",
        "plt.show()\n"
      ]
    },
    {
      "cell_type": "markdown",
      "id": "046d334a",
      "metadata": {
        "id": "046d334a"
      },
      "source": [
        "\n",
        "## Notes / Try This\n",
        "\n",
        "- Notice the orange line in the lecture corresponds to $z = w^\\top x + b$, which is **not** a probability by itself.  \n",
        "- The sigmoid wraps $z$ into $[0,1]$, giving a probability curve.  \n",
        "- These predictions match the pattern that larger tumors (right side) are more likely to be malignant (label 1).\n",
        "\n",
        "\n",
        "**Exercises:**\n",
        "1. Add additional data points near `x=9` or `x=10` (large size) and re-run the notebook. What happens to the curve and predictions?  \n",
        "2. Change the decision threshold (e.g., 0.3 or 0.7) and observe the effect on predictions.  \n",
        "3. Compare against a linear regression model with a 0.5 threshold and note the differences in behavior.\n"
      ]
    }
  ],
  "metadata": {
    "kernelspec": {
      "display_name": "Python 3",
      "language": "python",
      "name": "python3"
    },
    "language_info": {
      "name": "python",
      "version": "3.x"
    },
    "colab": {
      "provenance": [],
      "include_colab_link": true
    }
  },
  "nbformat": 4,
  "nbformat_minor": 5
}